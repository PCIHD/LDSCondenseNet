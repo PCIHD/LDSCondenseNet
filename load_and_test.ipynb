{
 "cells": [
  {
   "cell_type": "code",
   "execution_count": 9,
   "metadata": {},
   "outputs": [],
   "source": [
    "import torch\n",
    "import os\n",
    "from models import condensenet\n",
    "\n",
    "base_model_dir = 'results/savedir'"
   ]
  },
  {
   "cell_type": "code",
   "execution_count": 10,
   "metadata": {},
   "outputs": [],
   "source": [
    "def load_checkpoint(path):\n",
    "    model_dir = os.path.join(base_model_dir, 'save_models')\n",
    "    latest_filename = os.path.join(model_dir, 'latest.txt')\n",
    "    if os.path.exists(latest_filename):\n",
    "        with open(latest_filename, 'r') as fin:\n",
    "            model_filename = fin.readlines()[0]\n",
    "    else:\n",
    "        return None\n",
    "    print(\"=> loading checkpoint '{}'\".format(model_filename))\n",
    "    state = torch.load(model_filename)\n",
    "    print(\"=> loaded checkpoint '{}'\".format(model_filename))\n",
    "    return state"
   ]
  },
  {
   "cell_type": "code",
   "execution_count": 13,
   "metadata": {},
   "outputs": [],
   "source": [
    "checkpoint = torch.load('results\\savedir\\save_models\\model_best.pth.tar')"
   ]
  },
  {
   "cell_type": "code",
   "execution_count": 15,
   "metadata": {},
   "outputs": [
    {
     "ename": "SyntaxError",
     "evalue": "invalid syntax (<ipython-input-15-e958f6db9f14>, line 1)",
     "output_type": "error",
     "traceback": [
      "\u001B[1;36m  File \u001B[1;32m\"<ipython-input-15-e958f6db9f14>\"\u001B[1;36m, line \u001B[1;32m1\u001B[0m\n\u001B[1;33m    model = condensenet(--stages 14-14-14 --growth 8-16-32 --bottleneck 4 --group-1x1 4 --group-3x3 4 --condense-factor 4)\u001B[0m\n\u001B[1;37m                                  ^\u001B[0m\n\u001B[1;31mSyntaxError\u001B[0m\u001B[1;31m:\u001B[0m invalid syntax\n"
     ]
    }
   ],
   "source": [
    "model = condensenet(--stages =14-14-14, --growth 8-16-32 ,--bottleneck 4 ,--group-1x1 4 ,--group-3x3 4 ,condense-factor 4)"
   ]
  },
  {
   "cell_type": "code",
   "execution_count": null,
   "metadata": {},
   "outputs": [],
   "source": []
  }
 ],
 "metadata": {
  "kernelspec": {
   "display_name": "Python 3",
   "language": "python",
   "name": "python3"
  },
  "language_info": {
   "codemirror_mode": {
    "name": "ipython",
    "version": 3
   },
   "file_extension": ".py",
   "mimetype": "text/x-python",
   "name": "python",
   "nbconvert_exporter": "python",
   "pygments_lexer": "ipython3",
   "version": "3.6.12"
  }
 },
 "nbformat": 4,
 "nbformat_minor": 1
}